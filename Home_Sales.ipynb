{
 "cells": [
  {
   "cell_type": "code",
   "execution_count": 1,
   "metadata": {
    "colab": {
     "base_uri": "https://localhost:8080/"
    },
    "id": "LNybne3Xnsjx",
    "outputId": "ce692be9-1d19-42f8-89ab-3f1f177efcf9"
   },
   "outputs": [
    {
     "name": "stdout",
     "output_type": "stream",
     "text": [
      "Collecting Pyspark\n",
      "  Downloading pyspark-3.5.0.tar.gz (316.9 MB)\n",
      "\u001b[2K     \u001b[90m━━━━━━━━━━━━━━━━━━━━━━━━━━━━━━━━━━━━━━━\u001b[0m \u001b[32m316.9/316.9 MB\u001b[0m \u001b[31m1.2 MB/s\u001b[0m eta \u001b[36m0:00:00\u001b[0m\n",
      "\u001b[?25h  Preparing metadata (setup.py) ... \u001b[?25l\u001b[?25hdone\n",
      "Requirement already satisfied: py4j==0.10.9.7 in /usr/local/lib/python3.10/dist-packages (from Pyspark) (0.10.9.7)\n",
      "Building wheels for collected packages: Pyspark\n",
      "  Building wheel for Pyspark (setup.py) ... \u001b[?25l\u001b[?25hdone\n",
      "  Created wheel for Pyspark: filename=pyspark-3.5.0-py2.py3-none-any.whl size=317425344 sha256=5c0d30e720a3c807eaff70ae581826a9bfff4b012e762e1ad3b7beb5c41f525b\n",
      "  Stored in directory: /root/.cache/pip/wheels/41/4e/10/c2cf2467f71c678cfc8a6b9ac9241e5e44a01940da8fbb17fc\n",
      "Successfully built Pyspark\n",
      "Installing collected packages: Pyspark\n",
      "Successfully installed Pyspark-3.5.0\n"
     ]
    }
   ],
   "source": [
    "pip install Pyspark"
   ]
  },
  {
   "cell_type": "code",
   "execution_count": 2,
   "metadata": {
    "colab": {
     "base_uri": "https://localhost:8080/"
    },
    "id": "us_gNpItBnkw",
    "outputId": "49ac0758-e044-42cc-832d-a157ba1a9b9d"
   },
   "outputs": [
    {
     "name": "stdout",
     "output_type": "stream",
     "text": [
      "--2023-10-02 19:54:05--  https://jdbc.postgresql.org/download/postgresql-42.2.16.jar\n",
      "Resolving jdbc.postgresql.org (jdbc.postgresql.org)... 72.32.157.228, 2001:4800:3e1:1::228\n",
      "Connecting to jdbc.postgresql.org (jdbc.postgresql.org)|72.32.157.228|:443... connected.\n",
      "HTTP request sent, awaiting response... 200 OK\n",
      "Length: 1002883 (979K) [application/java-archive]\n",
      "Saving to: ‘postgresql-42.2.16.jar’\n",
      "\n",
      "postgresql-42.2.16. 100%[===================>] 979.38K  4.13MB/s    in 0.2s    \n",
      "\n",
      "2023-10-02 19:54:06 (4.13 MB/s) - ‘postgresql-42.2.16.jar’ saved [1002883/1002883]\n",
      "\n"
     ]
    }
   ],
   "source": [
    "\n",
    "# Download the Postgres driver that will allow Spark to interact with Postgres.\n",
    "!wget https://jdbc.postgresql.org/download/postgresql-42.2.16.jar\n"
   ]
  },
  {
   "cell_type": "code",
   "execution_count": 11,
   "metadata": {
    "id": "X0SEi-ADB0Sd"
   },
   "outputs": [],
   "source": [
    "from pyspark.sql import SparkSession\n",
    "import time\n",
    "spark = SparkSession.builder.appName(\"SparkSQL\").getOrCreate()\n"
   ]
  },
  {
   "cell_type": "code",
   "execution_count": 5,
   "metadata": {
    "colab": {
     "base_uri": "https://localhost:8080/"
    },
    "id": "-2oMgX29CdOX",
    "outputId": "1ce8f252-8fc6-490c-fc78-fbe33d808d00"
   },
   "outputs": [
    {
     "name": "stdout",
     "output_type": "stream",
     "text": [
      "+--------------------+----------+----------+------+--------+---------+-----------+--------+------+----------+----+\n",
      "|                  id|      date|date_built| price|bedrooms|bathrooms|sqft_living|sqft_lot|floors|waterfront|view|\n",
      "+--------------------+----------+----------+------+--------+---------+-----------+--------+------+----------+----+\n",
      "|f8a53099-ba1c-47d...|2022-04-08|      2016|936923|       4|        3|       3167|   11733|     2|         1|  76|\n",
      "|7530a2d8-1ae3-451...|2021-06-13|      2013|379628|       2|        2|       2235|   14384|     1|         0|  23|\n",
      "|43de979c-0bf0-4c9...|2019-04-12|      2014|417866|       2|        2|       2127|   10575|     2|         0|   0|\n",
      "|b672c137-b88c-48b...|2019-10-16|      2016|239895|       2|        2|       1631|   11149|     2|         0|   0|\n",
      "|e0726d4d-d595-407...|2022-01-08|      2017|424418|       3|        2|       2249|   13878|     2|         0|   4|\n",
      "|5aa00529-0533-46b...|2019-01-30|      2017|218712|       2|        3|       1965|   14375|     2|         0|   7|\n",
      "|131492a1-72e2-4a8...|2020-02-08|      2017|419199|       2|        3|       2062|    8876|     2|         0|   6|\n",
      "|8d54a71b-c520-44e...|2019-07-21|      2010|323956|       2|        3|       1506|   11816|     1|         0|  25|\n",
      "|e81aacfe-17fe-46b...|2020-06-16|      2016|181925|       3|        3|       2137|   11709|     2|         0|  22|\n",
      "|2ed8d509-7372-46d...|2021-08-06|      2015|258710|       3|        3|       1918|    9666|     1|         0|  25|\n",
      "|f876d86f-3c9f-42b...|2019-02-27|      2011|167864|       3|        3|       2471|   13924|     2|         0|  15|\n",
      "|0a2bd445-8508-4d8...|2021-12-30|      2014|337527|       2|        3|       1926|   12556|     1|         0|  23|\n",
      "|941bad30-eb49-4a7...|2020-05-09|      2015|229896|       3|        3|       2197|    8641|     1|         0|   3|\n",
      "|dd61eb34-6589-4c0...|2021-07-25|      2016|210247|       3|        2|       1672|   11986|     2|         0|  28|\n",
      "|f1e4cef7-d151-439...|2019-02-01|      2011|398667|       2|        3|       2331|   11356|     1|         0|   7|\n",
      "|ea620c7b-c2f7-4c6...|2021-05-31|      2011|437958|       3|        3|       2356|   11052|     1|         0|  26|\n",
      "|f233cb41-6f33-4b0...|2021-07-18|      2016|437375|       4|        3|       1704|   11721|     2|         0|  34|\n",
      "|c797ca12-52cd-4b1...|2019-06-08|      2015|288650|       2|        3|       2100|   10419|     2|         0|   7|\n",
      "|0cfe57f3-28c2-472...|2019-10-04|      2015|308313|       3|        3|       1960|    9453|     2|         0|   2|\n",
      "|4566cd2a-ac6e-435...|2019-07-15|      2016|177541|       3|        3|       2130|   10517|     2|         0|  25|\n",
      "+--------------------+----------+----------+------+--------+---------+-----------+--------+------+----------+----+\n",
      "only showing top 20 rows\n",
      "\n"
     ]
    }
   ],
   "source": [
    "# 1. Read in the AWS S3 bucket into a DataFrame.\n",
    "from pyspark import SparkFiles\n",
    "url = \"https://2u-data-curriculum-team.s3.amazonaws.com/dataviz-classroom/v1.2/22-big-data/home_sales_revised.csv\"\n",
    "spark.sparkContext.addFile(url)\n",
    "home_df = spark.read.csv(SparkFiles.get(\"home_sales_revised.csv\"), sep=\",\", header=True, ignoreLeadingWhiteSpace=True)\n",
    "home_df.show()"
   ]
  },
  {
   "cell_type": "code",
   "execution_count": 6,
   "metadata": {
    "id": "TZs8gB9LCqUm"
   },
   "outputs": [],
   "source": [
    "# 2. Create a temporary view of the DataFrame.\n",
    "\n",
    "home_df.createOrReplaceTempView('home_data')"
   ]
  },
  {
   "cell_type": "code",
   "execution_count": 7,
   "metadata": {
    "colab": {
     "base_uri": "https://localhost:8080/"
    },
    "id": "W40hTtDZCvgC",
    "outputId": "e20a4796-7b01-4942-9631-e01ce4393a96"
   },
   "outputs": [
    {
     "name": "stdout",
     "output_type": "stream",
     "text": [
      "+--------------------+----------+\n",
      "|round(avg(price), 2)|year(date)|\n",
      "+--------------------+----------+\n",
      "|           296363.88|      2022|\n",
      "|           301819.44|      2021|\n",
      "|           298353.78|      2020|\n",
      "|            300263.7|      2019|\n",
      "+--------------------+----------+\n",
      "\n"
     ]
    }
   ],
   "source": [
    "# 3. What is the average price for a four bedroom house sold in each year rounded to two decimal places?\n",
    "avg_price_4_bedroom = spark.sql(\"SELECT ROUND(AVG(price),2), YEAR(date) from home_data where bedrooms == 4 group by YEAR(date) ORDER BY YEAR(date) desc\")\n",
    "avg_price_4_bedroom.show()"
   ]
  },
  {
   "cell_type": "code",
   "execution_count": 8,
   "metadata": {
    "colab": {
     "base_uri": "https://localhost:8080/"
    },
    "id": "3HPf4pa7CyTL",
    "outputId": "40a5f2b2-f715-4da5-e1ca-7d5f3e11fb4c"
   },
   "outputs": [
    {
     "name": "stdout",
     "output_type": "stream",
     "text": [
      "+--------------------+----------+\n",
      "|round(avg(price), 2)|date_built|\n",
      "+--------------------+----------+\n",
      "|           292676.79|      2017|\n",
      "|           290555.07|      2016|\n",
      "|            288770.3|      2015|\n",
      "|           290852.27|      2014|\n",
      "|           295962.27|      2013|\n",
      "|           293683.19|      2012|\n",
      "|           291117.47|      2011|\n",
      "|           292859.62|      2010|\n",
      "+--------------------+----------+\n",
      "\n"
     ]
    }
   ],
   "source": [
    "# 4. What is the average price of a home for each year the home was built that have 3 bedrooms and 3 bathrooms rounded to two decimal places?\n",
    "avg_price_3_bed_3_bath = spark.sql(\"SELECT ROUND(AVG(price),2), date_built from home_data where bedrooms == 3 AND bathrooms == 3 group by date_built ORDER BY date_built desc\")\n",
    "avg_price_3_bed_3_bath.show()"
   ]
  },
  {
   "cell_type": "code",
   "execution_count": 9,
   "metadata": {
    "colab": {
     "base_uri": "https://localhost:8080/"
    },
    "id": "ZNwoawLqDBlq",
    "outputId": "8fdb21cc-1c01-40d8-a551-c9a57b0cac6c"
   },
   "outputs": [
    {
     "name": "stdout",
     "output_type": "stream",
     "text": [
      "+--------------------+----------+\n",
      "|round(avg(price), 2)|date_built|\n",
      "+--------------------+----------+\n",
      "|           280317.58|      2017|\n",
      "|            293965.1|      2016|\n",
      "|           297609.97|      2015|\n",
      "|           298264.72|      2014|\n",
      "|           303676.79|      2013|\n",
      "|           307539.97|      2012|\n",
      "|           276553.81|      2011|\n",
      "|           285010.22|      2010|\n",
      "+--------------------+----------+\n",
      "\n"
     ]
    }
   ],
   "source": [
    "# 5. What is the average price of a home for each year built that have 3 bedrooms, 3 bathrooms, with two floors,\n",
    "# and are greater than or equal to 2,000 square feet rounded to two decimal places?\n",
    "avg_price_3_bed_3_bath_2_floors = spark.sql(\"SELECT ROUND(AVG(price),2), date_built from home_data where bedrooms == 3 AND bathrooms == 3 AND floors == 2 AND sqft_living >= 2000 group by date_built ORDER BY date_built desc\")\n",
    "avg_price_3_bed_3_bath_2_floors.show()"
   ]
  },
  {
   "cell_type": "code",
   "execution_count": 12,
   "metadata": {
    "colab": {
     "base_uri": "https://localhost:8080/"
    },
    "id": "cSZ7kQ4VDFG5",
    "outputId": "179399f6-d3dd-4b92-8b84-585f2251e02e"
   },
   "outputs": [
    {
     "name": "stdout",
     "output_type": "stream",
     "text": [
      "+----+--------------------+\n",
      "|view|round(avg(price), 2)|\n",
      "+----+--------------------+\n",
      "|  51|           788128.21|\n",
      "|  54|           798684.82|\n",
      "|  69|           750537.94|\n",
      "|  87|           1072285.2|\n",
      "|  73|           752861.18|\n",
      "|  64|           767036.67|\n",
      "|  59|            791453.0|\n",
      "|  85|          1056336.74|\n",
      "|  52|           733780.26|\n",
      "|  71|            775651.1|\n",
      "|  98|          1053739.33|\n",
      "|  99|          1061201.42|\n",
      "|  96|          1017815.92|\n",
      "| 100|           1026669.5|\n",
      "|  70|           695865.58|\n",
      "|  61|           746877.59|\n",
      "|  75|          1114042.94|\n",
      "|  78|          1080649.37|\n",
      "|  89|          1107839.15|\n",
      "|  77|          1076205.56|\n",
      "+----+--------------------+\n",
      "only showing top 20 rows\n",
      "\n",
      "--- 1.1644868850708008 seconds ---\n"
     ]
    }
   ],
   "source": [
    "# 6. What is the \"view\" rating for the average price of a home, rounded to two decimal places, where the homes are greater than\n",
    "# or equal to $350,000? Although this is a small dataset, determine the run time for this query.\n",
    "\n",
    "start_time = time.time()\n",
    "\n",
    "spark.sql(\"SELECT view, ROUND(AVG(price),2) from home_data group by view having ROUND(AVG(price),2) >= 350000\").show()\n",
    "\n",
    "print(\"--- %s seconds ---\" % (time.time() - start_time))"
   ]
  },
  {
   "cell_type": "code",
   "execution_count": 13,
   "metadata": {
    "colab": {
     "base_uri": "https://localhost:8080/"
    },
    "id": "Cv0JuGTmFJOG",
    "outputId": "b8dbc35c-fe27-4eec-d76f-f237834f376b"
   },
   "outputs": [
    {
     "data": {
      "text/plain": [
       "DataFrame[]"
      ]
     },
     "execution_count": 13,
     "metadata": {},
     "output_type": "execute_result"
    }
   ],
   "source": [
    "# 7. Cache the the temporary table home_data.\n",
    "spark.sql(\"cache table home_data\")"
   ]
  },
  {
   "cell_type": "code",
   "execution_count": 14,
   "metadata": {
    "colab": {
     "base_uri": "https://localhost:8080/"
    },
    "id": "VGgaA_5NFOdU",
    "outputId": "561b544e-15a4-42df-9eae-75ce3aebe648"
   },
   "outputs": [
    {
     "data": {
      "text/plain": [
       "True"
      ]
     },
     "execution_count": 14,
     "metadata": {},
     "output_type": "execute_result"
    }
   ],
   "source": [
    "# 8. Check if the table is cached.\n",
    "spark.catalog.isCached('home_data')"
   ]
  },
  {
   "cell_type": "code",
   "execution_count": 15,
   "metadata": {
    "colab": {
     "base_uri": "https://localhost:8080/"
    },
    "id": "ROITPpwLFUfU",
    "outputId": "afa330c6-f9a4-4f64-84e4-1434bb53c1fa"
   },
   "outputs": [
    {
     "name": "stdout",
     "output_type": "stream",
     "text": [
      "+----+--------------------+\n",
      "|view|round(avg(price), 2)|\n",
      "+----+--------------------+\n",
      "|   7|           288929.09|\n",
      "|  15|           284907.04|\n",
      "|  11|           280356.07|\n",
      "|  29|           283881.72|\n",
      "|  42|           289225.45|\n",
      "|   3|           284314.53|\n",
      "|  30|           281085.62|\n",
      "|  34|           286124.07|\n",
      "|   8|           279099.78|\n",
      "|  22|           284908.42|\n",
      "|  28|           285474.25|\n",
      "|  16|           291990.83|\n",
      "|  35|           281767.41|\n",
      "|   0|           285069.21|\n",
      "|  47|           292925.62|\n",
      "|  43|           282606.92|\n",
      "|   5|           278096.94|\n",
      "|  31|           287988.84|\n",
      "|  18|           287532.36|\n",
      "|  27|            281702.6|\n",
      "+----+--------------------+\n",
      "only showing top 20 rows\n",
      "\n",
      "--- 0.5968353748321533 seconds ---\n"
     ]
    }
   ],
   "source": [
    "# 9. Using the cached data, run the query that filters out the view ratings with average price\n",
    "#  greater than or equal to $350,000. Determine the runtime and compare it to uncached runtime.\n",
    "start_time = time.time()\n",
    "\n",
    "spark.sql(\"SELECT view, ROUND(AVG(price),2) from home_data group by view having ROUND(AVG(price),2) < 350000\").show()\n",
    "\n",
    "print(\"--- %s seconds ---\" % (time.time() - start_time))"
   ]
  },
  {
   "cell_type": "code",
   "execution_count": 17,
   "metadata": {
    "id": "F_4cTtFVFaT5"
   },
   "outputs": [],
   "source": [
    "# 10. Partition by the \"date_built\" field on the formatted parquet home sales data\n",
    "home_df.write.parquet('home_parquet', mode='overwrite')"
   ]
  },
  {
   "cell_type": "code",
   "execution_count": 18,
   "metadata": {
    "id": "VC-GWUFKFoTA"
   },
   "outputs": [],
   "source": [
    "\n",
    "# 11. Read the parquet formatted data.\n",
    "parquet_home_df = spark.read.parquet('home_parquet')"
   ]
  },
  {
   "cell_type": "code",
   "execution_count": 19,
   "metadata": {
    "id": "ozMZNl3-Fb7-"
   },
   "outputs": [],
   "source": [
    "# 12. Create a temporary table for the parquet data.\n",
    "parquet_home_df.createOrReplaceTempView('parquet_temp_home')"
   ]
  },
  {
   "cell_type": "code",
   "execution_count": 20,
   "metadata": {
    "colab": {
     "base_uri": "https://localhost:8080/"
    },
    "id": "mN_-Zsd7FtTP",
    "outputId": "991f618c-7519-4432-85e7-b33cdbab675a"
   },
   "outputs": [
    {
     "name": "stdout",
     "output_type": "stream",
     "text": [
      "+----+--------------------+\n",
      "|view|round(avg(price), 2)|\n",
      "+----+--------------------+\n",
      "|   7|           288929.09|\n",
      "|  15|           284907.04|\n",
      "|  11|           280356.07|\n",
      "|  29|           283881.72|\n",
      "|  42|           289225.45|\n",
      "|   3|           284314.53|\n",
      "|  30|           281085.62|\n",
      "|  34|           286124.07|\n",
      "|   8|           279099.78|\n",
      "|  22|           284908.42|\n",
      "|  28|           285474.25|\n",
      "|  16|           291990.83|\n",
      "|  35|           281767.41|\n",
      "|   0|           285069.21|\n",
      "|  47|           292925.62|\n",
      "|  43|           282606.92|\n",
      "|   5|           278096.94|\n",
      "|  31|           287988.84|\n",
      "|  18|           287532.36|\n",
      "|  27|            281702.6|\n",
      "+----+--------------------+\n",
      "only showing top 20 rows\n",
      "\n",
      "--- 1.5366060733795166 seconds ---\n"
     ]
    }
   ],
   "source": [
    "# 13. Run the query that filters out the view ratings with average price of greater than or equal to $350,000\n",
    "# with the parquet DataFrame. Round your average to two decimal places.\n",
    "\n",
    "\n",
    "start_time = time.time()\n",
    "\n",
    "spark.sql(\"SELECT view, ROUND(AVG(price),2) from parquet_temp_home group by view having ROUND(AVG(price),2) < 350000\").show()\n",
    "\n",
    "print(\"--- %s seconds ---\" % (time.time() - start_time))"
   ]
  },
  {
   "cell_type": "code",
   "execution_count": 21,
   "metadata": {
    "colab": {
     "base_uri": "https://localhost:8080/"
    },
    "id": "6-81-DPPFyFz",
    "outputId": "b3f796d8-94b5-4f5e-83ce-369f1270fcd6"
   },
   "outputs": [
    {
     "data": {
      "text/plain": [
       "DataFrame[]"
      ]
     },
     "execution_count": 21,
     "metadata": {},
     "output_type": "execute_result"
    }
   ],
   "source": [
    "# 14. Uncache the home_sales temporary table.\n",
    "spark.sql(\"uncache table home_data\")"
   ]
  },
  {
   "cell_type": "code",
   "execution_count": 22,
   "metadata": {
    "colab": {
     "base_uri": "https://localhost:8080/"
    },
    "id": "glZ09cf7F31Y",
    "outputId": "fb0d8228-ec63-4e60-9d2d-8a3c5d1856ca"
   },
   "outputs": [
    {
     "data": {
      "text/plain": [
       "False"
      ]
     },
     "execution_count": 22,
     "metadata": {},
     "output_type": "execute_result"
    }
   ],
   "source": [
    "# 15. Check if the home_sales is no longer cached\n",
    "spark.catalog.isCached('home_data')"
   ]
  }
 ],
 "metadata": {
  "colab": {
   "provenance": []
  },
  "kernelspec": {
   "display_name": "Python 3 (ipykernel)",
   "language": "python",
   "name": "python3"
  },
  "language_info": {
   "codemirror_mode": {
    "name": "ipython",
    "version": 3
   },
   "file_extension": ".py",
   "mimetype": "text/x-python",
   "name": "python",
   "nbconvert_exporter": "python",
   "pygments_lexer": "ipython3",
   "version": "3.7.6"
  }
 },
 "nbformat": 4,
 "nbformat_minor": 1
}
